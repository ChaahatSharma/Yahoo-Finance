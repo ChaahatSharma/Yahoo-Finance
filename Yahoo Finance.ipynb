{
 "cells": [
  {
   "cell_type": "code",
   "execution_count": 1,
   "id": "8b0dae19",
   "metadata": {},
   "outputs": [],
   "source": [
    "import numpy as np\n",
    "import pandas as pd\n",
    "import seaborn as sns\n",
    "import matplotlib.pyplot as plt\n",
    "\n",
    "import yfinance as yf\n"
   ]
  },
  {
   "cell_type": "code",
   "execution_count": 2,
   "id": "6cc7cb8e",
   "metadata": {},
   "outputs": [
    {
     "name": "stdout",
     "output_type": "stream",
     "text": [
      "[*********************100%***********************]  1 of 1 completed\n"
     ]
    }
   ],
   "source": [
    "data = yf.download('EURUSD=X', auto_adjust=True)"
   ]
  },
  {
   "cell_type": "code",
   "execution_count": 3,
   "id": "fb91689f",
   "metadata": {},
   "outputs": [
    {
     "data": {
      "text/html": [
       "<div>\n",
       "<style scoped>\n",
       "    .dataframe tbody tr th:only-of-type {\n",
       "        vertical-align: middle;\n",
       "    }\n",
       "\n",
       "    .dataframe tbody tr th {\n",
       "        vertical-align: top;\n",
       "    }\n",
       "\n",
       "    .dataframe thead th {\n",
       "        text-align: right;\n",
       "    }\n",
       "</style>\n",
       "<table border=\"1\" class=\"dataframe\">\n",
       "  <thead>\n",
       "    <tr style=\"text-align: right;\">\n",
       "      <th></th>\n",
       "      <th>Open</th>\n",
       "      <th>High</th>\n",
       "      <th>Low</th>\n",
       "      <th>Close</th>\n",
       "      <th>Volume</th>\n",
       "    </tr>\n",
       "    <tr>\n",
       "      <th>Date</th>\n",
       "      <th></th>\n",
       "      <th></th>\n",
       "      <th></th>\n",
       "      <th></th>\n",
       "      <th></th>\n",
       "    </tr>\n",
       "  </thead>\n",
       "  <tbody>\n",
       "    <tr>\n",
       "      <th>2003-12-01</th>\n",
       "      <td>1.203398</td>\n",
       "      <td>1.204007</td>\n",
       "      <td>1.194401</td>\n",
       "      <td>1.196501</td>\n",
       "      <td>0</td>\n",
       "    </tr>\n",
       "    <tr>\n",
       "      <th>2003-12-02</th>\n",
       "      <td>1.196101</td>\n",
       "      <td>1.210903</td>\n",
       "      <td>1.194600</td>\n",
       "      <td>1.208897</td>\n",
       "      <td>0</td>\n",
       "    </tr>\n",
       "    <tr>\n",
       "      <th>2003-12-03</th>\n",
       "      <td>1.209000</td>\n",
       "      <td>1.213003</td>\n",
       "      <td>1.207700</td>\n",
       "      <td>1.212298</td>\n",
       "      <td>0</td>\n",
       "    </tr>\n",
       "    <tr>\n",
       "      <th>2003-12-04</th>\n",
       "      <td>1.212004</td>\n",
       "      <td>1.214403</td>\n",
       "      <td>1.204398</td>\n",
       "      <td>1.208094</td>\n",
       "      <td>0</td>\n",
       "    </tr>\n",
       "    <tr>\n",
       "      <th>2003-12-05</th>\n",
       "      <td>1.207802</td>\n",
       "      <td>1.219096</td>\n",
       "      <td>1.206593</td>\n",
       "      <td>1.218695</td>\n",
       "      <td>0</td>\n",
       "    </tr>\n",
       "    <tr>\n",
       "      <th>2003-12-08</th>\n",
       "      <td>1.216797</td>\n",
       "      <td>1.224005</td>\n",
       "      <td>1.215407</td>\n",
       "      <td>1.222001</td>\n",
       "      <td>0</td>\n",
       "    </tr>\n",
       "    <tr>\n",
       "      <th>2003-12-09</th>\n",
       "      <td>1.222105</td>\n",
       "      <td>1.227702</td>\n",
       "      <td>1.219795</td>\n",
       "      <td>1.224995</td>\n",
       "      <td>0</td>\n",
       "    </tr>\n",
       "    <tr>\n",
       "      <th>2003-12-10</th>\n",
       "      <td>1.224905</td>\n",
       "      <td>1.226603</td>\n",
       "      <td>1.216205</td>\n",
       "      <td>1.219096</td>\n",
       "      <td>0</td>\n",
       "    </tr>\n",
       "    <tr>\n",
       "      <th>2003-12-11</th>\n",
       "      <td>1.219096</td>\n",
       "      <td>1.223496</td>\n",
       "      <td>1.212298</td>\n",
       "      <td>1.222404</td>\n",
       "      <td>0</td>\n",
       "    </tr>\n",
       "    <tr>\n",
       "      <th>2003-12-12</th>\n",
       "      <td>1.222703</td>\n",
       "      <td>1.230603</td>\n",
       "      <td>1.221300</td>\n",
       "      <td>1.227898</td>\n",
       "      <td>0</td>\n",
       "    </tr>\n",
       "  </tbody>\n",
       "</table>\n",
       "</div>"
      ],
      "text/plain": [
       "                Open      High       Low     Close  Volume\n",
       "Date                                                      \n",
       "2003-12-01  1.203398  1.204007  1.194401  1.196501       0\n",
       "2003-12-02  1.196101  1.210903  1.194600  1.208897       0\n",
       "2003-12-03  1.209000  1.213003  1.207700  1.212298       0\n",
       "2003-12-04  1.212004  1.214403  1.204398  1.208094       0\n",
       "2003-12-05  1.207802  1.219096  1.206593  1.218695       0\n",
       "2003-12-08  1.216797  1.224005  1.215407  1.222001       0\n",
       "2003-12-09  1.222105  1.227702  1.219795  1.224995       0\n",
       "2003-12-10  1.224905  1.226603  1.216205  1.219096       0\n",
       "2003-12-11  1.219096  1.223496  1.212298  1.222404       0\n",
       "2003-12-12  1.222703  1.230603  1.221300  1.227898       0"
      ]
     },
     "execution_count": 3,
     "metadata": {},
     "output_type": "execute_result"
    }
   ],
   "source": [
    "data.head(10)"
   ]
  },
  {
   "cell_type": "code",
   "execution_count": 4,
   "id": "3886b10e",
   "metadata": {},
   "outputs": [
    {
     "name": "stdout",
     "output_type": "stream",
     "text": [
      "<class 'pandas.core.frame.DataFrame'>\n",
      "DatetimeIndex: 4701 entries, 2003-12-01 to 2022-01-14\n",
      "Data columns (total 5 columns):\n",
      " #   Column  Non-Null Count  Dtype  \n",
      "---  ------  --------------  -----  \n",
      " 0   Open    4701 non-null   float64\n",
      " 1   High    4701 non-null   float64\n",
      " 2   Low     4701 non-null   float64\n",
      " 3   Close   4701 non-null   float64\n",
      " 4   Volume  4701 non-null   int64  \n",
      "dtypes: float64(4), int64(1)\n",
      "memory usage: 220.4 KB\n"
     ]
    }
   ],
   "source": [
    "data.info()"
   ]
  },
  {
   "cell_type": "code",
   "execution_count": 5,
   "id": "f75f636a",
   "metadata": {},
   "outputs": [
    {
     "data": {
      "text/plain": [
       "(4701, 5)"
      ]
     },
     "execution_count": 5,
     "metadata": {},
     "output_type": "execute_result"
    }
   ],
   "source": [
    "data.shape"
   ]
  },
  {
   "cell_type": "code",
   "execution_count": 6,
   "id": "68fd2877",
   "metadata": {},
   "outputs": [
    {
     "data": {
      "text/html": [
       "<div>\n",
       "<style scoped>\n",
       "    .dataframe tbody tr th:only-of-type {\n",
       "        vertical-align: middle;\n",
       "    }\n",
       "\n",
       "    .dataframe tbody tr th {\n",
       "        vertical-align: top;\n",
       "    }\n",
       "\n",
       "    .dataframe thead th {\n",
       "        text-align: right;\n",
       "    }\n",
       "</style>\n",
       "<table border=\"1\" class=\"dataframe\">\n",
       "  <thead>\n",
       "    <tr style=\"text-align: right;\">\n",
       "      <th></th>\n",
       "      <th>Open</th>\n",
       "      <th>High</th>\n",
       "      <th>Low</th>\n",
       "      <th>Close</th>\n",
       "      <th>Volume</th>\n",
       "    </tr>\n",
       "  </thead>\n",
       "  <tbody>\n",
       "    <tr>\n",
       "      <th>count</th>\n",
       "      <td>4701.000000</td>\n",
       "      <td>4701.000000</td>\n",
       "      <td>4701.000000</td>\n",
       "      <td>4701.000000</td>\n",
       "      <td>4701.0</td>\n",
       "    </tr>\n",
       "    <tr>\n",
       "      <th>mean</th>\n",
       "      <td>1.255200</td>\n",
       "      <td>1.259893</td>\n",
       "      <td>1.250058</td>\n",
       "      <td>1.255226</td>\n",
       "      <td>0.0</td>\n",
       "    </tr>\n",
       "    <tr>\n",
       "      <th>std</th>\n",
       "      <td>0.119040</td>\n",
       "      <td>0.119801</td>\n",
       "      <td>0.119599</td>\n",
       "      <td>0.119029</td>\n",
       "      <td>0.0</td>\n",
       "    </tr>\n",
       "    <tr>\n",
       "      <th>min</th>\n",
       "      <td>1.039393</td>\n",
       "      <td>1.041992</td>\n",
       "      <td>0.072902</td>\n",
       "      <td>1.039047</td>\n",
       "      <td>0.0</td>\n",
       "    </tr>\n",
       "    <tr>\n",
       "      <th>25%</th>\n",
       "      <td>1.155535</td>\n",
       "      <td>1.159326</td>\n",
       "      <td>1.151410</td>\n",
       "      <td>1.155535</td>\n",
       "      <td>0.0</td>\n",
       "    </tr>\n",
       "    <tr>\n",
       "      <th>50%</th>\n",
       "      <td>1.246261</td>\n",
       "      <td>1.251142</td>\n",
       "      <td>1.240064</td>\n",
       "      <td>1.246199</td>\n",
       "      <td>0.0</td>\n",
       "    </tr>\n",
       "    <tr>\n",
       "      <th>75%</th>\n",
       "      <td>1.339405</td>\n",
       "      <td>1.343797</td>\n",
       "      <td>1.334401</td>\n",
       "      <td>1.339208</td>\n",
       "      <td>0.0</td>\n",
       "    </tr>\n",
       "    <tr>\n",
       "      <th>max</th>\n",
       "      <td>1.598184</td>\n",
       "      <td>1.602821</td>\n",
       "      <td>1.587402</td>\n",
       "      <td>1.598798</td>\n",
       "      <td>0.0</td>\n",
       "    </tr>\n",
       "  </tbody>\n",
       "</table>\n",
       "</div>"
      ],
      "text/plain": [
       "              Open         High          Low        Close  Volume\n",
       "count  4701.000000  4701.000000  4701.000000  4701.000000  4701.0\n",
       "mean      1.255200     1.259893     1.250058     1.255226     0.0\n",
       "std       0.119040     0.119801     0.119599     0.119029     0.0\n",
       "min       1.039393     1.041992     0.072902     1.039047     0.0\n",
       "25%       1.155535     1.159326     1.151410     1.155535     0.0\n",
       "50%       1.246261     1.251142     1.240064     1.246199     0.0\n",
       "75%       1.339405     1.343797     1.334401     1.339208     0.0\n",
       "max       1.598184     1.602821     1.587402     1.598798     0.0"
      ]
     },
     "execution_count": 6,
     "metadata": {},
     "output_type": "execute_result"
    }
   ],
   "source": [
    "data.describe()"
   ]
  },
  {
   "cell_type": "code",
   "execution_count": 7,
   "id": "5a1cdbde",
   "metadata": {},
   "outputs": [
    {
     "data": {
      "image/png": "[encoded data removed]",
      "text/plain": [
       "<Figure size 720x504 with 1 Axes>"
      ]
     },
     "metadata": {
      "needs_background": "light"
     },
     "output_type": "display_data"
    }
   ],
   "source": [
    "plt.figure(figsize=(10,7))\n",
    "plt.plot(data['Close'], 'r')\n",
    "plt.xlabel('Year')\n",
    "plt.ylabel('USD vs EURO')\n",
    "plt.title('USD vs EUR since 2004')\n",
    "\n",
    "plt.show()"
   ]
  },
  {
   "cell_type": "code",
   "execution_count": 8,
   "id": "046bb3b8",
   "metadata": {},
   "outputs": [
    {
     "data": {
      "text/plain": [
       "<seaborn.axisgrid.FacetGrid at 0x1fa996a2f40>"
      ]
     },
     "execution_count": 8,
     "metadata": {},
     "output_type": "execute_result"
    },
    {
     "data": {
      "image/png": "[encoded data removed]",
      "text/plain": [
       "<Figure size 360x360 with 1 Axes>"
      ]
     },
     "metadata": {
      "needs_background": "light"
     },
     "output_type": "display_data"
    }
   ],
   "source": [
    "sns.displot(data.High)"
   ]
  },
  {
   "cell_type": "code",
   "execution_count": 9,
   "id": "c9dcca74",
   "metadata": {},
   "outputs": [
    {
     "name": "stdout",
     "output_type": "stream",
     "text": [
      "(3760, 4)\n",
      "(3760,)\n",
      "(941, 4)\n",
      "(941,)\n"
     ]
    }
   ],
   "source": [
    "X = data.drop('Close', axis=1)\n",
    "y = data['Close']\n",
    "\n",
    "from sklearn.model_selection import train_test_split\n",
    "\n",
    "X_train, X_test, y_train, y_test = train_test_split(X,y, test_size = 0.2, random_state = 0)\n",
    "\n",
    "print(X_train.shape)\n",
    "print(y_train.shape)\n",
    "print(X_test.shape)\n",
    "print(y_test.shape)"
   ]
  },
  {
   "cell_type": "code",
   "execution_count": 10,
   "id": "ff15bc65",
   "metadata": {},
   "outputs": [],
   "source": [
    "from sklearn.linear_model import LinearRegression\n",
    "\n",
    "lr=LinearRegression()\n",
    "lr.fit(X_train, y_train)\n",
    "pred1 = lr.predict(X_test)"
   ]
  },
  {
   "cell_type": "code",
   "execution_count": 11,
   "id": "346070f5",
   "metadata": {},
   "outputs": [
    {
     "name": "stdout",
     "output_type": "stream",
     "text": [
      "MSE :  3.797438423874541e-05\n",
      "R2 :  0.9972308991205399\n"
     ]
    }
   ],
   "source": [
    "from sklearn.metrics import mean_squared_error, r2_score\n",
    "\n",
    "def cal_met(y_test, y_pred):\n",
    "    mse = mean_squared_error(y_test, y_pred)\n",
    "    r2 = r2_score(y_test, y_pred)\n",
    "    print('MSE : ',mse)\n",
    "    print('R2 : ',r2)\n",
    "    \n",
    "cal_met(y_test, pred1)"
   ]
  },
  {
   "cell_type": "code",
   "execution_count": 12,
   "id": "64ba7867",
   "metadata": {},
   "outputs": [],
   "source": [
    "from sklearn.linear_model import Lasso, Ridge\n",
    "\n",
    "la = Lasso().fit(X_train, y_train)\n",
    "ri = Ridge().fit(X_train, y_train)\n",
    "\n",
    "la_p = la.predict(X_test)\n",
    "ri_p = ri.predict(X_test)"
   ]
  },
  {
   "cell_type": "code",
   "execution_count": 13,
   "id": "b0bd4717",
   "metadata": {},
   "outputs": [
    {
     "name": "stdout",
     "output_type": "stream",
     "text": [
      "MSE :  0.013718055936814777\n",
      "R2 :  -0.000323810921988521\n"
     ]
    }
   ],
   "source": [
    "cal_met(y_test, la_p)"
   ]
  },
  {
   "cell_type": "code",
   "execution_count": 14,
   "id": "6b6c3311",
   "metadata": {
    "scrolled": true
   },
   "outputs": [
    {
     "name": "stdout",
     "output_type": "stream",
     "text": [
      "MSE :  0.0002035034882019125\n",
      "R2 :  0.9851604785844515\n"
     ]
    }
   ],
   "source": [
    "cal_met(y_test, ri_p)"
   ]
  },
  {
   "cell_type": "code",
   "execution_count": 19,
   "id": "7cf2f2e0",
   "metadata": {},
   "outputs": [
    {
     "data": {
      "text/plain": [
       "(941, 4)"
      ]
     },
     "execution_count": 19,
     "metadata": {},
     "output_type": "execute_result"
    }
   ],
   "source": [
    "X_test.shape"
   ]
  },
  {
   "cell_type": "code",
   "execution_count": 20,
   "id": "f47ecf96",
   "metadata": {},
   "outputs": [
    {
     "data": {
      "text/plain": [
       "(941,)"
      ]
     },
     "execution_count": 20,
     "metadata": {},
     "output_type": "execute_result"
    }
   ],
   "source": [
    "y_test.shape"
   ]
  },
  {
   "cell_type": "code",
   "execution_count": null,
   "id": "5fc30d7f",
   "metadata": {},
   "outputs": [],
   "source": []
  }
 ],
 "metadata": {
  "kernelspec": {
   "display_name": "Python 3 (ipykernel)",
   "language": "python",
   "name": "python3"
  },
  "language_info": {
   "codemirror_mode": {
    "name": "ipython",
    "version": 3
   },
   "file_extension": ".py",
   "mimetype": "text/x-python",
   "name": "python",
   "nbconvert_exporter": "python",
   "pygments_lexer": "ipython3",
   "version": "3.8.12"
  }
 },
 "nbformat": 4,
 "nbformat_minor": 5
}
